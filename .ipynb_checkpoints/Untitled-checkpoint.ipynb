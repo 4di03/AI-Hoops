{
 "cells": [
  {
   "cell_type": "code",
   "execution_count": 1,
   "id": "87d835a8",
   "metadata": {},
   "outputs": [
    {
     "name": "stdout",
     "output_type": "stream",
     "text": [
      "BLAHASDHASDASD\n"
     ]
    }
   ],
   "source": [
    "import sys\n",
    "\n",
    "print(\"BLAHASDHASDASD\")"
   ]
  },
  {
   "cell_type": "code",
   "execution_count": 2,
   "id": "613b1372",
   "metadata": {},
   "outputs": [],
   "source": [
    "def do_something(text= \"BLAHASDHASDASD\"):\n",
    "    print(text)"
   ]
  },
  {
   "cell_type": "code",
   "execution_count": 3,
   "id": "1bcada7b",
   "metadata": {},
   "outputs": [],
   "source": [
    "import io\n",
    "from contextlib import redirect_stdout\n",
    "\n",
    "f = io.StringIO()\n",
    "with redirect_stdout(f):\n",
    "    do_something()\n",
    "out = f.getvalue()"
   ]
  },
  {
   "cell_type": "code",
   "execution_count": 4,
   "id": "23516d88",
   "metadata": {},
   "outputs": [
    {
     "data": {
      "text/plain": [
       "'BLAHASDHASDASD\\n'"
      ]
     },
     "execution_count": 4,
     "metadata": {},
     "output_type": "execute_result"
    }
   ],
   "source": [
    "out"
   ]
  },
  {
   "cell_type": "code",
   "execution_count": 5,
   "id": "5ebd2869",
   "metadata": {},
   "outputs": [
    {
     "data": {
      "text/plain": [
       "'lou\\n'"
      ]
     },
     "execution_count": 5,
     "metadata": {},
     "output_type": "execute_result"
    }
   ],
   "source": [
    "new_f = io.StringIO()\n",
    "with redirect_stdout(new_f):\n",
    "    do_something(\"lou\") # captures output of stdout from function into new_f\n",
    "    \n",
    "new_f.getvalue()"
   ]
  },
  {
   "cell_type": "code",
   "execution_count": 7,
   "id": "9a4b54de",
   "metadata": {},
   "outputs": [
    {
     "data": {
      "text/plain": [
       "str"
      ]
     },
     "execution_count": 7,
     "metadata": {},
     "output_type": "execute_result"
    }
   ],
   "source": [
    "type(new_f.getvalue())"
   ]
  },
  {
   "cell_type": "code",
   "execution_count": 9,
   "id": "e9f78408",
   "metadata": {},
   "outputs": [
    {
     "data": {
      "text/plain": [
       "'lou\\n'"
      ]
     },
     "execution_count": 9,
     "metadata": {},
     "output_type": "execute_result"
    }
   ],
   "source": [
    "new_f.getvalue()"
   ]
  },
  {
   "cell_type": "code",
   "execution_count": 10,
   "id": "7275dc4b",
   "metadata": {},
   "outputs": [
    {
     "name": "stdout",
     "output_type": "stream",
     "text": [
      "duffle\n"
     ]
    }
   ],
   "source": [
    "print(\"duffle\")"
   ]
  },
  {
   "cell_type": "code",
   "execution_count": 11,
   "id": "8fb751f5",
   "metadata": {},
   "outputs": [
    {
     "data": {
      "text/plain": [
       "'lou\\n'"
      ]
     },
     "execution_count": 11,
     "metadata": {},
     "output_type": "execute_result"
    }
   ],
   "source": [
    "new_f.getvalue()"
   ]
  },
  {
   "cell_type": "code",
   "execution_count": null,
   "id": "c46f6333",
   "metadata": {},
   "outputs": [],
   "source": []
  }
 ],
 "metadata": {
  "kernelspec": {
   "display_name": "Python 3 (ipykernel)",
   "language": "python",
   "name": "python3"
  },
  "language_info": {
   "codemirror_mode": {
    "name": "ipython",
    "version": 3
   },
   "file_extension": ".py",
   "mimetype": "text/x-python",
   "name": "python",
   "nbconvert_exporter": "python",
   "pygments_lexer": "ipython3",
   "version": "3.9.7"
  }
 },
 "nbformat": 4,
 "nbformat_minor": 5
}
