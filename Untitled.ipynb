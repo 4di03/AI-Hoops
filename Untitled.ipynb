{
 "cells": [
  {
   "cell_type": "code",
   "execution_count": 10,
   "id": "87d835a8",
   "metadata": {},
   "outputs": [
    {
     "name": "stdout",
     "output_type": "stream",
     "text": [
      "BLAHASDHASDASD\n"
     ]
    }
   ],
   "source": [
    "import sys\n",
    "\n",
    "print(\"BLAHASDHASDASD\")"
   ]
  },
  {
   "cell_type": "code",
   "execution_count": 11,
   "id": "613b1372",
   "metadata": {},
   "outputs": [],
   "source": [
    "def do_something(text= \"BLAHASDHASDASD\"):\n",
    "    print(text)"
   ]
  },
  {
   "cell_type": "code",
   "execution_count": 12,
   "id": "1bcada7b",
   "metadata": {},
   "outputs": [],
   "source": [
    "import io\n",
    "from contextlib import redirect_stdout\n",
    "\n",
    "f = io.StringIO()\n",
    "with redirect_stdout(f):\n",
    "    do_something()\n",
    "out = f.getvalue()"
   ]
  },
  {
   "cell_type": "code",
   "execution_count": 13,
   "id": "23516d88",
   "metadata": {},
   "outputs": [
    {
     "data": {
      "text/plain": [
       "'BLAHASDHASDASD\\n'"
      ]
     },
     "execution_count": 13,
     "metadata": {},
     "output_type": "execute_result"
    }
   ],
   "source": [
    "out"
   ]
  },
  {
   "cell_type": "code",
   "execution_count": 14,
   "id": "5ebd2869",
   "metadata": {},
   "outputs": [
    {
     "data": {
      "text/plain": [
       "'lou\\n'"
      ]
     },
     "execution_count": 14,
     "metadata": {},
     "output_type": "execute_result"
    }
   ],
   "source": [
    "new_f = io.StringIO()\n",
    "with redirect_stdout(new_f):\n",
    "    do_something(\"lou\") # captures output of stdout from function into new_f\n",
    "    \n",
    "new_f.getvalue()"
   ]
  },
  {
   "cell_type": "code",
   "execution_count": 15,
   "id": "9a4b54de",
   "metadata": {},
   "outputs": [
    {
     "data": {
      "text/plain": [
       "str"
      ]
     },
     "execution_count": 15,
     "metadata": {},
     "output_type": "execute_result"
    }
   ],
   "source": [
    "type(new_f.getvalue())"
   ]
  },
  {
   "cell_type": "code",
   "execution_count": 16,
   "id": "e9f78408",
   "metadata": {},
   "outputs": [
    {
     "data": {
      "text/plain": [
       "'lou\\n'"
      ]
     },
     "execution_count": 16,
     "metadata": {},
     "output_type": "execute_result"
    }
   ],
   "source": [
    "new_f.getvalue()"
   ]
  },
  {
   "cell_type": "code",
   "execution_count": 17,
   "id": "7275dc4b",
   "metadata": {},
   "outputs": [
    {
     "name": "stdout",
     "output_type": "stream",
     "text": [
      "duffle\n"
     ]
    }
   ],
   "source": [
    "print(\"duffle\")"
   ]
  },
  {
   "cell_type": "code",
   "execution_count": 18,
   "id": "8fb751f5",
   "metadata": {},
   "outputs": [
    {
     "data": {
      "text/plain": [
       "'lou\\n'"
      ]
     },
     "execution_count": 18,
     "metadata": {},
     "output_type": "execute_result"
    }
   ],
   "source": [
    "new_f.getvalue()"
   ]
  },
  {
   "cell_type": "code",
   "execution_count": 22,
   "id": "c46f6333",
   "metadata": {
    "is_executing": true
   },
   "outputs": [
    {
     "data": {
      "text/plain": [
       "['__abstractmethods__',\n",
       " '__annotations__',\n",
       " '__class__',\n",
       " '__del__',\n",
       " '__delattr__',\n",
       " '__dict__',\n",
       " '__dir__',\n",
       " '__doc__',\n",
       " '__enter__',\n",
       " '__eq__',\n",
       " '__exit__',\n",
       " '__format__',\n",
       " '__ge__',\n",
       " '__getattribute__',\n",
       " '__gt__',\n",
       " '__hash__',\n",
       " '__init__',\n",
       " '__init_subclass__',\n",
       " '__iter__',\n",
       " '__le__',\n",
       " '__lt__',\n",
       " '__module__',\n",
       " '__ne__',\n",
       " '__new__',\n",
       " '__next__',\n",
       " '__reduce__',\n",
       " '__reduce_ex__',\n",
       " '__repr__',\n",
       " '__setattr__',\n",
       " '__sizeof__',\n",
       " '__str__',\n",
       " '__subclasshook__',\n",
       " '_abc_impl',\n",
       " '_buffer',\n",
       " '_buffer_lock',\n",
       " '_checkClosed',\n",
       " '_checkReadable',\n",
       " '_checkSeekable',\n",
       " '_checkWritable',\n",
       " '_exc',\n",
       " '_fid',\n",
       " '_flush',\n",
       " '_flush_buffer',\n",
       " '_flush_pending',\n",
       " '_hooks',\n",
       " '_io_loop',\n",
       " '_is_master_process',\n",
       " '_isatty',\n",
       " '_local',\n",
       " '_master_pid',\n",
       " '_original_stdstream_copy',\n",
       " '_original_stdstream_fd',\n",
       " '_rotate_buffer',\n",
       " '_schedule_flush',\n",
       " '_setup_stream_redirects',\n",
       " '_should_watch',\n",
       " '_subprocess_flush_pending',\n",
       " '_watch_pipe_fd',\n",
       " 'close',\n",
       " 'closed',\n",
       " 'detach',\n",
       " 'echo',\n",
       " 'encoding',\n",
       " 'errors',\n",
       " 'fileno',\n",
       " 'flush',\n",
       " 'flush_interval',\n",
       " 'flush_timeout',\n",
       " 'isatty',\n",
       " 'name',\n",
       " 'newlines',\n",
       " 'parent_header',\n",
       " 'pub_thread',\n",
       " 'read',\n",
       " 'readable',\n",
       " 'readline',\n",
       " 'readlines',\n",
       " 'register_hook',\n",
       " 'seek',\n",
       " 'seekable',\n",
       " 'session',\n",
       " 'set_parent',\n",
       " 'softspace',\n",
       " 'tell',\n",
       " 'topic',\n",
       " 'truncate',\n",
       " 'unregister_hook',\n",
       " 'watch_fd_thread',\n",
       " 'writable',\n",
       " 'write',\n",
       " 'writelines']"
      ]
     },
     "execution_count": 22,
     "metadata": {},
     "output_type": "execute_result"
    }
   ],
   "source": [
    "dir(sys.stdout)"
   ]
  },
  {
   "cell_type": "code",
   "execution_count": 25,
   "metadata": {
    "collapsed": false
   },
   "outputs": [
    {
     "name": "stdout",
     "output_type": "stream",
     "text": [
      "dd"
     ]
    },
    {
     "data": {
      "text/plain": [
       "2"
      ]
     },
     "execution_count": 25,
     "metadata": {},
     "output_type": "execute_result"
    }
   ],
   "source": [
    "sys.stdout.write(\"dd\")"
   ]
  },
  {
   "cell_type": "code",
   "execution_count": 5,
   "id": "e1c50508",
   "metadata": {},
   "outputs": [
    {
     "data": {
      "text/plain": [
       "True"
      ]
     },
     "execution_count": 5,
     "metadata": {},
     "output_type": "execute_result"
    }
   ],
   "source": []
  },
  {
   "cell_type": "code",
   "execution_count": null,
   "id": "1993340e",
   "metadata": {},
   "outputs": [],
   "source": []
  }
 ],
 "metadata": {
  "kernelspec": {
   "display_name": "Python 3",
   "language": "python",
   "name": "python3"
  },
  "language_info": {
   "codemirror_mode": {
    "name": "ipython",
    "version": 3
   },
   "file_extension": ".py",
   "mimetype": "text/x-python",
   "name": "python",
   "nbconvert_exporter": "python",
   "pygments_lexer": "ipython3",
   "version": "3.9.13"
  },
  "vscode": {
   "interpreter": {
    "hash": "aee8b7b246df8f9039afb4144a1f6fd8d2ca17a180786b69acc140d282b71a49"
   }
  }
 },
 "nbformat": 4,
 "nbformat_minor": 5
}
